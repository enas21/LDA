{
  "cells": [
    {
      "cell_type": "code",
      "execution_count": 1,
      "metadata": {
        "id": "KYTdELtLywrA"
      },
      "outputs": [],
      "source": [
        "from pandas import read_csv\n",
        "import matplotlib.pyplot as plt\n",
        "from sklearn.model_selection import train_test_split\n",
        "from sklearn.discriminant_analysis import LinearDiscriminantAnalysis\n",
        "from sklearn.metrics import confusion_matrix\n",
        "from sklearn.metrics import classification_report\n",
        "import pandas as pd\n",
        "from sklearn.datasets import load_iris\n",
        "from sklearn.metrics import accuracy_score\n",
        "import seaborn as sns\n",
        "from sklearn.preprocessing import LabelBinarizer\n",
        "import numpy as np\n",
        "sns.set(style=\"white\", color_codes=True)\n",
        "from math import sqrt"
      ]
    },
    {
      "cell_type": "code",
      "execution_count": 7,
      "metadata": {
        "id": "HQ-f5ORFywrH"
      },
      "outputs": [],
      "source": [
        "# Load dataset\n",
        "url = \"https://raw.githubusercontent.com/jbrownlee/Datasets/master/iris.csv\"\n",
        "names = ['sepal-length', 'sepal-width', 'petal-length', 'petal-width', 'class']\n",
        "iris = pd.read_csv(url, names=names)"
      ]
    },
    {
      "cell_type": "code",
      "source": [
        "iris.head()"
      ],
      "metadata": {
        "colab": {
          "base_uri": "https://localhost:8080/",
          "height": 206
        },
        "id": "ZUkxKknCF8YT",
        "outputId": "74d38484-6cac-4487-94cd-5b8317567721"
      },
      "execution_count": 8,
      "outputs": [
        {
          "output_type": "execute_result",
          "data": {
            "text/plain": [
              "   sepal-length  sepal-width  petal-length  petal-width        class\n",
              "0           5.1          3.5           1.4          0.2  Iris-setosa\n",
              "1           4.9          3.0           1.4          0.2  Iris-setosa\n",
              "2           4.7          3.2           1.3          0.2  Iris-setosa\n",
              "3           4.6          3.1           1.5          0.2  Iris-setosa\n",
              "4           5.0          3.6           1.4          0.2  Iris-setosa"
            ],
            "text/html": [
              "\n",
              "  <div id=\"df-6f6eeb3d-2396-40af-9e5d-dedc4a794059\">\n",
              "    <div class=\"colab-df-container\">\n",
              "      <div>\n",
              "<style scoped>\n",
              "    .dataframe tbody tr th:only-of-type {\n",
              "        vertical-align: middle;\n",
              "    }\n",
              "\n",
              "    .dataframe tbody tr th {\n",
              "        vertical-align: top;\n",
              "    }\n",
              "\n",
              "    .dataframe thead th {\n",
              "        text-align: right;\n",
              "    }\n",
              "</style>\n",
              "<table border=\"1\" class=\"dataframe\">\n",
              "  <thead>\n",
              "    <tr style=\"text-align: right;\">\n",
              "      <th></th>\n",
              "      <th>sepal-length</th>\n",
              "      <th>sepal-width</th>\n",
              "      <th>petal-length</th>\n",
              "      <th>petal-width</th>\n",
              "      <th>class</th>\n",
              "    </tr>\n",
              "  </thead>\n",
              "  <tbody>\n",
              "    <tr>\n",
              "      <th>0</th>\n",
              "      <td>5.1</td>\n",
              "      <td>3.5</td>\n",
              "      <td>1.4</td>\n",
              "      <td>0.2</td>\n",
              "      <td>Iris-setosa</td>\n",
              "    </tr>\n",
              "    <tr>\n",
              "      <th>1</th>\n",
              "      <td>4.9</td>\n",
              "      <td>3.0</td>\n",
              "      <td>1.4</td>\n",
              "      <td>0.2</td>\n",
              "      <td>Iris-setosa</td>\n",
              "    </tr>\n",
              "    <tr>\n",
              "      <th>2</th>\n",
              "      <td>4.7</td>\n",
              "      <td>3.2</td>\n",
              "      <td>1.3</td>\n",
              "      <td>0.2</td>\n",
              "      <td>Iris-setosa</td>\n",
              "    </tr>\n",
              "    <tr>\n",
              "      <th>3</th>\n",
              "      <td>4.6</td>\n",
              "      <td>3.1</td>\n",
              "      <td>1.5</td>\n",
              "      <td>0.2</td>\n",
              "      <td>Iris-setosa</td>\n",
              "    </tr>\n",
              "    <tr>\n",
              "      <th>4</th>\n",
              "      <td>5.0</td>\n",
              "      <td>3.6</td>\n",
              "      <td>1.4</td>\n",
              "      <td>0.2</td>\n",
              "      <td>Iris-setosa</td>\n",
              "    </tr>\n",
              "  </tbody>\n",
              "</table>\n",
              "</div>\n",
              "      <button class=\"colab-df-convert\" onclick=\"convertToInteractive('df-6f6eeb3d-2396-40af-9e5d-dedc4a794059')\"\n",
              "              title=\"Convert this dataframe to an interactive table.\"\n",
              "              style=\"display:none;\">\n",
              "        \n",
              "  <svg xmlns=\"http://www.w3.org/2000/svg\" height=\"24px\"viewBox=\"0 0 24 24\"\n",
              "       width=\"24px\">\n",
              "    <path d=\"M0 0h24v24H0V0z\" fill=\"none\"/>\n",
              "    <path d=\"M18.56 5.44l.94 2.06.94-2.06 2.06-.94-2.06-.94-.94-2.06-.94 2.06-2.06.94zm-11 1L8.5 8.5l.94-2.06 2.06-.94-2.06-.94L8.5 2.5l-.94 2.06-2.06.94zm10 10l.94 2.06.94-2.06 2.06-.94-2.06-.94-.94-2.06-.94 2.06-2.06.94z\"/><path d=\"M17.41 7.96l-1.37-1.37c-.4-.4-.92-.59-1.43-.59-.52 0-1.04.2-1.43.59L10.3 9.45l-7.72 7.72c-.78.78-.78 2.05 0 2.83L4 21.41c.39.39.9.59 1.41.59.51 0 1.02-.2 1.41-.59l7.78-7.78 2.81-2.81c.8-.78.8-2.07 0-2.86zM5.41 20L4 18.59l7.72-7.72 1.47 1.35L5.41 20z\"/>\n",
              "  </svg>\n",
              "      </button>\n",
              "      \n",
              "  <style>\n",
              "    .colab-df-container {\n",
              "      display:flex;\n",
              "      flex-wrap:wrap;\n",
              "      gap: 12px;\n",
              "    }\n",
              "\n",
              "    .colab-df-convert {\n",
              "      background-color: #E8F0FE;\n",
              "      border: none;\n",
              "      border-radius: 50%;\n",
              "      cursor: pointer;\n",
              "      display: none;\n",
              "      fill: #1967D2;\n",
              "      height: 32px;\n",
              "      padding: 0 0 0 0;\n",
              "      width: 32px;\n",
              "    }\n",
              "\n",
              "    .colab-df-convert:hover {\n",
              "      background-color: #E2EBFA;\n",
              "      box-shadow: 0px 1px 2px rgba(60, 64, 67, 0.3), 0px 1px 3px 1px rgba(60, 64, 67, 0.15);\n",
              "      fill: #174EA6;\n",
              "    }\n",
              "\n",
              "    [theme=dark] .colab-df-convert {\n",
              "      background-color: #3B4455;\n",
              "      fill: #D2E3FC;\n",
              "    }\n",
              "\n",
              "    [theme=dark] .colab-df-convert:hover {\n",
              "      background-color: #434B5C;\n",
              "      box-shadow: 0px 1px 3px 1px rgba(0, 0, 0, 0.15);\n",
              "      filter: drop-shadow(0px 1px 2px rgba(0, 0, 0, 0.3));\n",
              "      fill: #FFFFFF;\n",
              "    }\n",
              "  </style>\n",
              "\n",
              "      <script>\n",
              "        const buttonEl =\n",
              "          document.querySelector('#df-6f6eeb3d-2396-40af-9e5d-dedc4a794059 button.colab-df-convert');\n",
              "        buttonEl.style.display =\n",
              "          google.colab.kernel.accessAllowed ? 'block' : 'none';\n",
              "\n",
              "        async function convertToInteractive(key) {\n",
              "          const element = document.querySelector('#df-6f6eeb3d-2396-40af-9e5d-dedc4a794059');\n",
              "          const dataTable =\n",
              "            await google.colab.kernel.invokeFunction('convertToInteractive',\n",
              "                                                     [key], {});\n",
              "          if (!dataTable) return;\n",
              "\n",
              "          const docLinkHtml = 'Like what you see? Visit the ' +\n",
              "            '<a target=\"_blank\" href=https://colab.research.google.com/notebooks/data_table.ipynb>data table notebook</a>'\n",
              "            + ' to learn more about interactive tables.';\n",
              "          element.innerHTML = '';\n",
              "          dataTable['output_type'] = 'display_data';\n",
              "          await google.colab.output.renderOutput(dataTable, element);\n",
              "          const docLink = document.createElement('div');\n",
              "          docLink.innerHTML = docLinkHtml;\n",
              "          element.appendChild(docLink);\n",
              "        }\n",
              "      </script>\n",
              "    </div>\n",
              "  </div>\n",
              "  "
            ]
          },
          "metadata": {},
          "execution_count": 8
        }
      ]
    },
    {
      "cell_type": "code",
      "source": [
        "iris.plot(kind=\"scatter\", x=\"sepal-length\", y=\"sepal-width\")"
      ],
      "metadata": {
        "colab": {
          "base_uri": "https://localhost:8080/",
          "height": 342
        },
        "id": "Hzvx1aW9FVbU",
        "outputId": "53930db3-9ba7-4b75-d2cd-b572f81ae025"
      },
      "execution_count": 9,
      "outputs": [
        {
          "output_type": "stream",
          "name": "stderr",
          "text": [
            "*c* argument looks like a single numeric RGB or RGBA sequence, which should be avoided as value-mapping will have precedence in case its length matches with *x* & *y*.  Please use the *color* keyword-argument or provide a 2-D array with a single row if you intend to specify the same RGB or RGBA value for all points.\n"
          ]
        },
        {
          "output_type": "execute_result",
          "data": {
            "text/plain": [
              "<matplotlib.axes._subplots.AxesSubplot at 0x7f1e58f8bbd0>"
            ]
          },
          "metadata": {},
          "execution_count": 9
        },
        {
          "output_type": "display_data",
          "data": {
            "text/plain": [
              "<Figure size 432x288 with 1 Axes>"
            ],
            "image/png": "[encoded data removed]"
          },
          "metadata": {
            "needs_background": "light"
          }
        }
      ]
    },
    {
      "cell_type": "code",
      "source": [
        "sns.FacetGrid(iris, hue=\"class\", size=5) \\\n",
        "   .map(plt.scatter, \"sepal-length\", \"sepal-width\") \\\n",
        "   .add_legend()"
      ],
      "metadata": {
        "colab": {
          "base_uri": "https://localhost:8080/",
          "height": 421
        },
        "id": "IpEKNcu1GcvU",
        "outputId": "5f4f1edd-f0d4-4204-b834-c38fe13c0a44"
      },
      "execution_count": 10,
      "outputs": [
        {
          "output_type": "stream",
          "name": "stderr",
          "text": [
            "/usr/local/lib/python3.7/dist-packages/seaborn/axisgrid.py:337: UserWarning: The `size` parameter has been renamed to `height`; please update your code.\n",
            "  warnings.warn(msg, UserWarning)\n"
          ]
        },
        {
          "output_type": "execute_result",
          "data": {
            "text/plain": [
              "<seaborn.axisgrid.FacetGrid at 0x7f1e58f07c90>"
            ]
          },
          "metadata": {},
          "execution_count": 10
        },
        {
          "output_type": "display_data",
          "data": {
            "text/plain": [
              "<Figure size 474.35x360 with 1 Axes>"
            ],
            "image/png": "[encoded data removed]"
          },
          "metadata": {
            "needs_background": "light"
          }
        }
      ]
    },
    {
      "cell_type": "code",
      "source": [
        "plt.scatter(\n",
        "    x[:,0],x[:,1],c=y\n",
        ")"
      ],
      "metadata": {
        "colab": {
          "base_uri": "https://localhost:8080/",
          "height": 287
        },
        "id": "A1prTNbAAGWz",
        "outputId": "47f66295-7019-4ccc-c565-2637e9c0c5ec"
      },
      "execution_count": 29,
      "outputs": [
        {
          "output_type": "execute_result",
          "data": {
            "text/plain": [
              "<matplotlib.collections.PathCollection at 0x7f1e56bf14d0>"
            ]
          },
          "metadata": {},
          "execution_count": 29
        },
        {
          "output_type": "display_data",
          "data": {
            "text/plain": [
              "<Figure size 432x288 with 1 Axes>"
            ],
            "image/png": "[encoded data removed]"
          },
          "metadata": {
            "needs_background": "light"
          }
        }
      ]
    },
    {
      "cell_type": "code",
      "execution_count": 12,
      "metadata": {
        "id": "2ubT9VeQywrI"
      },
      "outputs": [],
      "source": [
        "# Split-out validation dataset\n",
        "array = iris.values\n",
        "x = array[:,0:4]\n",
        "y = array[:,4]\n",
        "for i in range(0,50):\n",
        "  y[i]=0\n",
        "for i in range(50,100):\n",
        "  y[i]=1\n",
        "for i in range(100,150):\n",
        "  y[i]=2\n",
        "x_train, x_test, y_train, y_test = train_test_split(x, y, test_size=0.15, random_state=5, shuffle=True)"
      ]
    },
    {
      "cell_type": "code",
      "source": [
        "x=x.astype(float)\n",
        "height, width = x.shape\n",
        "unique_classes = np.unique(y)\n",
        "num_classes = len(unique_classes)\n",
        "\n",
        "scatter_t = np.cov(x.T)*(height - 1)\n",
        "scatter_w = 0\n",
        "for i in range(num_classes):\n",
        "    class_items = np.flatnonzero(y == unique_classes[i])\n",
        "    scatter_w = scatter_w + np.cov(x[class_items].T) * (len(class_items)-1)\n",
        "\n",
        "scatter_b = scatter_t - scatter_w\n",
        "colors = ['r','g','b']\n",
        "labels = np.unique(y)\n",
        "_ , eig_vectors = np.linalg.eigh(np.linalg.pinv(scatter_w).dot(scatter_b))\n",
        "pc = x.dot(eig_vectors[:,::-1][:,:2])\n",
        "for color, label in zip(colors, labels):\n",
        "      class_data = pc[np.flatnonzero(y==label)]\n",
        "      plt.scatter(class_data[:,0],class_data[:,1],c=color)\n",
        "plt.show()"
      ],
      "metadata": {
        "colab": {
          "base_uri": "https://localhost:8080/",
          "height": 270
        },
        "id": "wn8_ki5KOgLA",
        "outputId": "357b4263-65f4-4ce7-ab1e-537f8924e16d"
      },
      "execution_count": 13,
      "outputs": [
        {
          "output_type": "display_data",
          "data": {
            "text/plain": [
              "<Figure size 432x288 with 1 Axes>"
            ],
            "image/png": "[encoded data removed]"
          },
          "metadata": {
            "needs_background": "light"
          }
        }
      ]
    },
    {
      "cell_type": "code",
      "source": [
        "def gradientDescent(learning_rate, x, y):\n",
        "        w = np.matrix(np.zeros(x.shape[1]))\n",
        "        parameters = int(w.ravel().shape[1])\n",
        "        error = (x * w.T) - y\n",
        "\n",
        "        for j in range(parameters):\n",
        "         gradient = np.multiply(error, x[:, j])\n",
        "         w[0, j] = w[0, j] - ((learning_rate / len(x)) * np.sum(gradient))\n",
        "         return w\n",
        "\n",
        "\n",
        "\n",
        "\n",
        "def lossFunction(w, x, y):\n",
        "       inner = np.power(((x * w.T) - y), 2)\n",
        "       return np.sum(inner) / (2 * len(x))\n",
        "\n",
        "\n",
        "learning_rate = 0.0001\n",
        "\n",
        "\n",
        "w = gradientDescent(learning_rate, x_train,y_train)\n",
        "train_loss = lossFunction(w , x_train , y_train)\n",
        "w = gradientDescent(learning_rate, x_test,y_test)\n",
        "test_loss = lossFunction(w , x_test , y_test)\n"
      ],
      "metadata": {
        "id": "8wCgvZgUKRrC"
      },
      "execution_count": 14,
      "outputs": []
    },
    {
      "cell_type": "code",
      "source": [
        "print(train_loss)\n",
        "print(test_loss)\n",
        "print(\"Accuracy = \",100-(test_loss))"
      ],
      "metadata": {
        "id": "_OuFvxj1LVWU",
        "colab": {
          "base_uri": "https://localhost:8080/"
        },
        "outputId": "fd74e56e-1dab-416e-e6ff-b2bec7ec37a7"
      },
      "execution_count": 15,
      "outputs": [
        {
          "output_type": "stream",
          "name": "stdout",
          "text": [
            "59.11805327726318\n",
            "18.95934230551089\n",
            "Accuracy =  81.04065769448911\n"
          ]
        }
      ]
    },
    {
      "cell_type": "code",
      "source": [
        "classifier = LinearDiscriminantAnalysis()\n",
        "classifier.fit(x_train, y_train.astype(float))\n",
        "y_pred = classifier.predict(x_test)\n",
        "print(classification_report(y_test.astype(float), y_pred))\n",
        "con_matrix=confusion_matrix(y_test.astype(float), y_pred)\n",
        "print(con_matrix)\n",
        "print('accuracy is',accuracy_score(y_test.astype(float),y_pred)*100)"
      ],
      "metadata": {
        "colab": {
          "base_uri": "https://localhost:8080/"
        },
        "id": "KRN-7843JkrM",
        "outputId": "3b1975ba-58b8-4b98-91dd-172bbcec5d63"
      },
      "execution_count": 25,
      "outputs": [
        {
          "output_type": "stream",
          "name": "stdout",
          "text": [
            "              precision    recall  f1-score   support\n",
            "\n",
            "         0.0       1.00      1.00      1.00         8\n",
            "         1.0       0.83      0.83      0.83         6\n",
            "         2.0       0.89      0.89      0.89         9\n",
            "\n",
            "    accuracy                           0.91        23\n",
            "   macro avg       0.91      0.91      0.91        23\n",
            "weighted avg       0.91      0.91      0.91        23\n",
            "\n",
            "[[8 0 0]\n",
            " [0 5 1]\n",
            " [0 1 8]]\n",
            "accuracy is 91.30434782608695\n"
          ]
        }
      ]
    },
    {
      "cell_type": "code",
      "source": [
        "misclassified_samples = x_test[y_test != y_pred]"
      ],
      "metadata": {
        "id": "MrS38KpLBDdo"
      },
      "execution_count": 17,
      "outputs": []
    },
    {
      "cell_type": "code",
      "source": [
        "print(misclassified_samples)"
      ],
      "metadata": {
        "colab": {
          "base_uri": "https://localhost:8080/"
        },
        "id": "AGMTAnLJBHf2",
        "outputId": "ab5e52e2-b410-4d65-9abf-c4dff52aacad"
      },
      "execution_count": 18,
      "outputs": [
        {
          "output_type": "stream",
          "name": "stdout",
          "text": [
            "[[5.9 3.2 4.8 1.8]\n",
            " [6.3 2.8 5.1 1.5]]\n"
          ]
        }
      ]
    },
    {
      "cell_type": "code",
      "source": [
        "index=[]\n",
        "count=len(misclassified_samples)\n",
        "for j in range(count):\n",
        " for i in range(0,150):\n",
        "  if count==0:\n",
        "    break\n",
        "  if (misclassified_samples[count-1][0]==x[i][0] ) :\n",
        "    if ( misclassified_samples[count-1][1]==x[i][1] ):\n",
        "      if( misclassified_samples[count-1][2]==x[i][2] ):\n",
        "        if(misclassified_samples[count-1][3]==x[i][3]):\n",
        "           count=count-1\n",
        "           index.append(i)"
      ],
      "metadata": {
        "id": "BWAh8ZZQEbM_"
      },
      "execution_count": 19,
      "outputs": []
    },
    {
      "cell_type": "code",
      "source": [
        "index.sort()\n",
        "print(index)"
      ],
      "metadata": {
        "colab": {
          "base_uri": "https://localhost:8080/"
        },
        "id": "04kqRiTjyCPc",
        "outputId": "0e9f7497-0130-4dad-9870-a152d88ec883"
      },
      "execution_count": 20,
      "outputs": [
        {
          "output_type": "stream",
          "name": "stdout",
          "text": [
            "[70, 133]\n"
          ]
        }
      ]
    },
    {
      "cell_type": "code",
      "source": [
        "sum=0\n",
        "new_class=0\n",
        "for i in range(0,3):\n",
        "  for j in range(0,3):\n",
        "    sum=sum + con_matrix[i][j]\n",
        "if sum < len(y_pred):\n",
        "  new_class=sum - len(y_pred)\n",
        "print(new_class)"
      ],
      "metadata": {
        "colab": {
          "base_uri": "https://localhost:8080/"
        },
        "id": "PpFFGe0_UGiN",
        "outputId": "f8726352-7d26-4d2c-b051-91f844bf71c2"
      },
      "execution_count": 21,
      "outputs": [
        {
          "output_type": "stream",
          "name": "stdout",
          "text": [
            "0\n"
          ]
        }
      ]
    },
    {
      "cell_type": "code",
      "source": [
        "class_error=0\n",
        "for i in y_pred.astype(int):\n",
        "  if i != 0 | i != 1 | i != 2:\n",
        "     class_error=class_error+1\n",
        "print(class_error)"
      ],
      "metadata": {
        "colab": {
          "base_uri": "https://localhost:8080/"
        },
        "id": "88ohrHS1V5cr",
        "outputId": "2840311a-fb42-46a1-b784-be3d312af057"
      },
      "execution_count": 28,
      "outputs": [
        {
          "output_type": "stream",
          "name": "stdout",
          "text": [
            "0\n"
          ]
        }
      ]
    }
  ],
  "metadata": {
    "kernelspec": {
      "display_name": "Python 3",
      "language": "python",
      "name": "python3"
    },
    "language_info": {
      "codemirror_mode": {
        "name": "ipython",
        "version": 3
      },
      "file_extension": ".py",
      "mimetype": "text/x-python",
      "name": "python",
      "nbconvert_exporter": "python",
      "pygments_lexer": "ipython3",
      "version": "3.6.6"
    },
    "colab": {
      "name": "Ass3_pattern.ipynb",
      "provenance": [],
      "collapsed_sections": []
    }
  },
  "nbformat": 4,
  "nbformat_minor": 0
}